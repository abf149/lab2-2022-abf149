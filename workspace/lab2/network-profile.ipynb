{
 "cells": [
  {
   "cell_type": "markdown",
   "id": "brazilian-judge",
   "metadata": {},
   "source": [
    "# Your name: "
   ]
  },
  {
   "cell_type": "markdown",
   "id": "characteristic-consciousness",
   "metadata": {},
   "source": [
    "This notebook implements timeloop/accelergy-based energy estimation for the neural network model you trained. This part has to be run with the docker we provide, and does not require GPU support. \n",
    "\n",
    "One strategy to reduce the profiling time is to design a model with repeated layers since layers with the same architecture only need one time of profiling.\n",
    "The profiler will also automatically save the information of profiled layers to a .json file specifiled by `profiled_lib_dir`, so that next time the same layer is profiled, the results can be obtained immediately. \n"
   ]
  },
  {
   "cell_type": "markdown",
   "id": "small-thought",
   "metadata": {},
   "source": [
    "### 1. Load the model"
   ]
  },
  {
   "cell_type": "code",
   "execution_count": null,
   "id": "spectacular-allowance",
   "metadata": {},
   "outputs": [],
   "source": [
    "import torch\n",
    "import torch.nn as nn\n",
    "import torch.nn.functional as F\n",
    "\n",
    "# Change this model class to the architecture you used\n",
    "class Net(nn.Module):\n",
    "    def __init__(self):\n",
    "        super(Net, self).__init__()\n",
    "        self.conv1 = nn.Conv2d(3, 6, 5)\n",
    "        self.pool = nn.MaxPool2d(2, 2)\n",
    "        self.conv2 = nn.Conv2d(6, 16, 5)\n",
    "        self.fc1 = nn.Linear(16 * 5 * 5, 120)\n",
    "        self.fc2 = nn.Linear(120, 84)\n",
    "        self.fc3 = nn.Linear(84, 10)\n",
    "\n",
    "    def forward(self, x):\n",
    "        x = self.pool(F.relu(self.conv1(x)))\n",
    "        x = self.pool(F.relu(self.conv2(x)))\n",
    "        x = x.view(-1, 16 * 5 * 5)\n",
    "        x = F.relu(self.fc1(x))\n",
    "        x = F.relu(self.fc2(x))\n",
    "        x = self.fc3(x)\n",
    "        return x\n",
    "\n",
    "net = Net()"
   ]
  },
  {
   "cell_type": "markdown",
   "id": "noble-hollow",
   "metadata": {},
   "source": [
    "### 2. Run the Profiler to estimate the peak activation size"
   ]
  },
  {
   "cell_type": "code",
   "execution_count": null,
   "id": "former-carry",
   "metadata": {},
   "outputs": [],
   "source": [
    "from profiler import count_activation_size\n",
    "peak_activation_size = count_activation_size(\n",
    "    net=net,\n",
    "    input_size=(1, 3, 32, 32),\n",
    ")\n",
    "\n",
    "print(f\"Peak Activation Sizes: {peak_activation_size} Byte\")"
   ]
  },
  {
   "cell_type": "markdown",
   "id": "behavioral-advertising",
   "metadata": {},
   "source": [
    "### 3. Run the Profiler for Timeloop/Accelergy"
   ]
  },
  {
   "cell_type": "code",
   "execution_count": null,
   "id": "needed-tribune",
   "metadata": {},
   "outputs": [],
   "source": [
    "from profiler import Profiler\n",
    "from datetime import date\n",
    "\n",
    "today = date.today()\n",
    "sub_dir = \"network-\" + today.strftime(\"%b-%d-%Y\")\n",
    "\n",
    "profiler = Profiler(\n",
    "    top_dir='workloads',\n",
    "    sub_dir=sub_dir,\n",
    "    timeloop_dir='simple_weight_stationary',\n",
    "    model=net,\n",
    "    input_size=(3, 32, 32),\n",
    "    batch_size=1,\n",
    "    convert_fc=True,\n",
    "    exception_module_names=[],\n",
    "    profiled_lib_dir=f\"profiled_lib.json\"\n",
    ")\n",
    "\n",
    "layer_wise, overall = profiler.profile()\n",
    "\n",
    "for layer_id, info in layer_wise.items():\n",
    "    print(f\"Name: {info['name']} \\t Energy: {info['energy']:.2f} \\t Cycle: {info['cycle']} \\t Number of same architecture layers: {info['num']}\")\n",
    "    \n",
    "print(f\"\\nTotal Energy: {overall['total_energy']/1e9:.8f} mj \\nTotal Cycles: {overall['total_cycle']/1e6:.8f} Million\")\n",
    "\n",
    "print(f\"MACs: {overall['macs']}\\nNum of Parameters: {overall['num_params']} \\nPeak Activation Size: {overall['activation_size']} Byte\")\n",
    "\n",
    "\n"
   ]
  },
  {
   "cell_type": "code",
   "execution_count": null,
   "id": "liable-drill",
   "metadata": {},
   "outputs": [],
   "source": []
  }
 ],
 "metadata": {
  "kernelspec": {
   "display_name": "Python 3 (ipykernel)",
   "language": "python",
   "name": "python3"
  },
  "language_info": {
   "codemirror_mode": {
    "name": "ipython",
    "version": 3
   },
   "file_extension": ".py",
   "mimetype": "text/x-python",
   "name": "python",
   "nbconvert_exporter": "python",
   "pygments_lexer": "ipython3",
   "version": "3.8.12"
  }
 },
 "nbformat": 4,
 "nbformat_minor": 5
}
