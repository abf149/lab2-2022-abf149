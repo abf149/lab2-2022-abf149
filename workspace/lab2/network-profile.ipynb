{
 "cells": [
  {
   "cell_type": "markdown",
   "id": "brazilian-judge",
   "metadata": {},
   "source": [
    "# Your name: "
   ]
  },
  {
   "cell_type": "markdown",
   "id": "characteristic-consciousness",
   "metadata": {},
   "source": [
    "This notebook implements timeloop/accelergy-based energy estimation for the neural network model you trained. This part has to be run with the docker we provide, and does not require GPU support. \n",
    "\n",
    "One strategy to reduce the profiling time is to design a model with repeated layers since layers with the same architecture only need one time of profiling.\n",
    "The profiler will also automatically save the information of profiled layers to a .json file specifiled by `profiled_lib_dir`, so that next time the same layer is profiled, the results can be obtained immediately. \n"
   ]
  },
  {
   "cell_type": "markdown",
   "id": "small-thought",
   "metadata": {},
   "source": [
    "### 1. Load the model"
   ]
  },
  {
   "cell_type": "code",
   "execution_count": 16,
   "id": "spectacular-allowance",
   "metadata": {},
   "outputs": [],
   "source": [
    "import torch\n",
    "import torch.nn as nn\n",
    "import torch.nn.functional as F\n",
    "\n",
    "# Change this model class to the architecture you used\n",
    "class Net(nn.Module):\n",
    "    def __init__(self):\n",
    "        super(Net, self).__init__()\n",
    "        self.conv1 = nn.Conv2d(3, 6, 5)\n",
    "        self.pool = nn.MaxPool2d(2, 2)\n",
    "        self.conv2 = nn.Conv2d(6, 16, 5)\n",
    "        self.fc1 = nn.Linear(16 * 5 * 5, 120)\n",
    "        self.fc2 = nn.Linear(120, 84)\n",
    "        self.fc3 = nn.Linear(84, 10)\n",
    "\n",
    "    def forward(self, x):\n",
    "        x = self.pool(F.relu(self.conv1(x)))\n",
    "        x = self.pool(F.relu(self.conv2(x)))\n",
    "        x = x.view(-1, 16 * 5 * 5)\n",
    "        x = F.relu(self.fc1(x))\n",
    "        x = F.relu(self.fc2(x))\n",
    "        x = self.fc3(x)\n",
    "        return x\n",
    "\n",
    "net = Net()"
   ]
  },
  {
   "cell_type": "code",
   "execution_count": 17,
   "id": "71778055",
   "metadata": {},
   "outputs": [],
   "source": [
    "class Net(nn.Module):\n",
    "    def __init__(self):\n",
    "        super(Net, self).__init__()\n",
    "        self.conv1 = nn.Conv2d(3, 16, 5)\n",
    "        self.conv1_bn = nn.BatchNorm2d(12)\n",
    "        self.pool = nn.MaxPool2d(2, 2)\n",
    "        self.conv2 = nn.Conv2d(16, 32, 5)\n",
    "        self.conv2_bn = nn.BatchNorm2d(32)\n",
    "        self.conv3 = nn.Conv2d(32, 64, 3)\n",
    "        self.conv3_bn = nn.BatchNorm2d(64)\n",
    "        self.fc1 = nn.Linear(64 * 8 * 8, 120)\n",
    "        self.fc1_bn = nn.BatchNorm1d(120)        \n",
    "        self.dropout1 = nn.Dropout(p=0.5)        \n",
    "        self.fc2 = nn.Linear(120, 84)\n",
    "        self.fc2_bn = nn.BatchNorm1d(84)\n",
    "        self.dropout2 = nn.Dropout(p=0.5)        \n",
    "        self.fc3 = nn.Linear(84, 84)\n",
    "        self.fc3_bn = nn.BatchNorm1d(84)\n",
    "        self.dropout3 = nn.Dropout(p=0.5)        \n",
    "        self.fc4 = nn.Linear(84, 10)\n",
    "        self.fc4_bn = nn.BatchNorm1d(10)\n",
    "        self.dropout4 = nn.Dropout(p=0.5)        \n",
    "\n",
    "        \n",
    "    def forward(self, x):\n",
    "        x = self.pool(F.relu((self.conv1(x))))\n",
    "        x = F.relu((self.conv2(x)))\n",
    "        x = F.relu((self.conv3(x)))\n",
    "        x = x.view(-1, 64 * 8 * 8)\n",
    "        #x = self.dropout1(x)\n",
    "        x = F.relu((self.fc1(x)))\n",
    "        x = F.relu((self.fc2(x)))\n",
    "        x = (self.fc3(x))\n",
    "        x = ((self.fc4(x)))\n",
    "        return x\n",
    "\n",
    "\n",
    "net = Net()\n",
    "\n",
    "criterion = nn.CrossEntropyLoss()\n",
    "#optimizer = optim.SGD(net.parameters(), lr=0.001, momentum=0.9)\n",
    "#optimizer = optim.SGD(net.parameters(), lr=0.01, momentum=0.9)\n",
    "#optimizer = optim.Adam([var1, var2], lr=0.0001)"
   ]
  },
  {
   "cell_type": "markdown",
   "id": "noble-hollow",
   "metadata": {},
   "source": [
    "### 2. Run the Profiler to estimate the peak activation size"
   ]
  },
  {
   "cell_type": "code",
   "execution_count": 18,
   "id": "former-carry",
   "metadata": {},
   "outputs": [
    {
     "name": "stdout",
     "output_type": "stream",
     "text": [
      "Peak Activation Sizes: 62464.0 Byte\n"
     ]
    }
   ],
   "source": [
    "from profiler import count_activation_size\n",
    "peak_activation_size = count_activation_size(\n",
    "    net=net,\n",
    "    input_size=(1, 3, 32, 32),\n",
    ")\n",
    "\n",
    "print(f\"Peak Activation Sizes: {peak_activation_size} Byte\")"
   ]
  },
  {
   "cell_type": "markdown",
   "id": "behavioral-advertising",
   "metadata": {},
   "source": [
    "### 3. Run the Profiler for Timeloop/Accelergy"
   ]
  },
  {
   "cell_type": "code",
   "execution_count": 19,
   "id": "needed-tribune",
   "metadata": {},
   "outputs": [
    {
     "name": "stdout",
     "output_type": "stream",
     "text": [
      "converting nn.Conv2d and nn.Linear in network-Feb-27-2022 model ...\n",
      "workload file --> /home/workspace/lab2/workloads/network-Feb-27-2022/network-Feb-27-2022_layer1.yaml\n",
      "workload file --> /home/workspace/lab2/workloads/network-Feb-27-2022/network-Feb-27-2022_layer2.yaml\n",
      "workload file --> /home/workspace/lab2/workloads/network-Feb-27-2022/network-Feb-27-2022_layer3.yaml\n",
      "workload file --> /home/workspace/lab2/workloads/network-Feb-27-2022/network-Feb-27-2022_layer4.yaml\n",
      "workload file --> /home/workspace/lab2/workloads/network-Feb-27-2022/network-Feb-27-2022_layer5.yaml\n",
      "workload file --> /home/workspace/lab2/workloads/network-Feb-27-2022/network-Feb-27-2022_layer6.yaml\n",
      "workload file --> /home/workspace/lab2/workloads/network-Feb-27-2022/network-Feb-27-2022_layer7.yaml\n",
      "conversion complete!\n",
      "\n",
      "running timeloop to get energy and latency...\n"
     ]
    },
    {
     "name": "stderr",
     "output_type": "stream",
     "text": [
      "100%|██████████| 4/4 [00:47<00:00, 11.87s/it]"
     ]
    },
    {
     "name": "stdout",
     "output_type": "stream",
     "text": [
      "timeloop running finished!\n",
      "Name: /home/workspace/lab2/workloads/network-Feb-27-2022/network-Feb-27-2022_layer1 \t Energy: 12423679.32 \t Cycle: 19600 \t Number of same architecture layers: 1\n",
      "Name: /home/workspace/lab2/workloads/network-Feb-27-2022/network-Feb-27-2022_layer2 \t Energy: 33959447.72 \t Cycle: 5000 \t Number of same architecture layers: 1\n",
      "Name: /home/workspace/lab2/workloads/network-Feb-27-2022/network-Feb-27-2022_layer3 \t Energy: 16209900.67 \t Cycle: 4608 \t Number of same architecture layers: 1\n",
      "Name: /home/workspace/lab2/workloads/network-Feb-27-2022/network-Feb-27-2022_layer4 \t Energy: 69751849.65 \t Cycle: 2048 \t Number of same architecture layers: 1\n",
      "Name: /home/workspace/lab2/workloads/network-Feb-27-2022/network-Feb-27-2022_layer4 \t Energy: 1478502.96 \t Cycle: 60 \t Number of same architecture layers: 1\n",
      "Name: /home/workspace/lab2/workloads/network-Feb-27-2022/network-Feb-27-2022_layer6 \t Energy: 1037421.21 \t Cycle: 36 \t Number of same architecture layers: 1\n",
      "Name: /home/workspace/lab2/workloads/network-Feb-27-2022/network-Feb-27-2022_layer5 \t Energy: 129233.83 \t Cycle: 6 \t Number of same architecture layers: 1\n",
      "\n",
      "Total Energy: 0.13499004 mj \n",
      "Total Cycles: 0.03135800 Million\n",
      "MACs: 3909944\n",
      "Num of Parameters: 543150 \n",
      "Peak Activation Size: 62464.0 Byte\n"
     ]
    },
    {
     "name": "stderr",
     "output_type": "stream",
     "text": [
      "\n"
     ]
    }
   ],
   "source": [
    "from profiler import Profiler\n",
    "from datetime import date\n",
    "\n",
    "today = date.today()\n",
    "sub_dir = \"network-\" + today.strftime(\"%b-%d-%Y\")\n",
    "\n",
    "profiler = Profiler(\n",
    "    top_dir='workloads',\n",
    "    sub_dir=sub_dir,\n",
    "    timeloop_dir='simple_weight_stationary',\n",
    "    model=net,\n",
    "    input_size=(3, 32, 32),\n",
    "    batch_size=1,\n",
    "    convert_fc=True,\n",
    "    exception_module_names=[],\n",
    "    profiled_lib_dir=f\"profiled_lib.json\"\n",
    ")\n",
    "\n",
    "layer_wise, overall = profiler.profile()\n",
    "\n",
    "for layer_id, info in layer_wise.items():\n",
    "    print(f\"Name: {info['name']} \\t Energy: {info['energy']:.2f} \\t Cycle: {info['cycle']} \\t Number of same architecture layers: {info['num']}\")\n",
    "    \n",
    "print(f\"\\nTotal Energy: {overall['total_energy']/1e9:.8f} mj \\nTotal Cycles: {overall['total_cycle']/1e6:.8f} Million\")\n",
    "\n",
    "print(f\"MACs: {overall['macs']}\\nNum of Parameters: {overall['num_params']} \\nPeak Activation Size: {overall['activation_size']} Byte\")\n",
    "\n",
    "\n"
   ]
  },
  {
   "cell_type": "code",
   "execution_count": null,
   "id": "liable-drill",
   "metadata": {},
   "outputs": [],
   "source": []
  }
 ],
 "metadata": {
  "kernelspec": {
   "display_name": "Python 3 (ipykernel)",
   "language": "python",
   "name": "python3"
  },
  "language_info": {
   "codemirror_mode": {
    "name": "ipython",
    "version": 3
   },
   "file_extension": ".py",
   "mimetype": "text/x-python",
   "name": "python",
   "nbconvert_exporter": "python",
   "pygments_lexer": "ipython3",
   "version": "3.8.12"
  }
 },
 "nbformat": 4,
 "nbformat_minor": 5
}
